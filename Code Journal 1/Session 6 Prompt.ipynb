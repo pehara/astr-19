{
 "cells": [
  {
   "cell_type": "markdown",
   "id": "d9f6d216-87b7-4b2b-9641-564598962b84",
   "metadata": {},
   "source": [
    "# Sine and Cosine Functions\n",
    "In this notebook, we will define functions to calculate the sine and cosine of a given angle in radians. We will create an array of 1000 evenly spaced values between 0 and 2, then use these functions to compute and display their results.\n"
   ]
  },
  {
   "cell_type": "markdown",
   "id": "56d835a0-7820-408e-a758-74a0fbd3f0a6",
   "metadata": {},
   "source": [
    "import math as m\n",
    "import numpy as np\n",
    "\n",
    "# Creating an array of 1000 evenly spaced values between 0 and 2\n",
    "x_values = np.linspace(0, 2, 1000)\n"
   ]
  },
  {
   "cell_type": "markdown",
   "id": "b0b3d4eb-c59e-4db3-9d8e-aaeba94ad9f9",
   "metadata": {},
   "source": [
    "## Sine Function\n",
    "This function takes an input `x` in radians and returns its sine value using the `math.sin()` function.\n"
   ]
  },
  {
   "cell_type": "markdown",
   "id": "a4765963-435e-445e-9348-abf317d71fab",
   "metadata": {},
   "source": [
    "# Creating a function to calculate sine of x\n",
    "def sine_function(x):\n",
    "    \"\"\"Returns the sine of x (in radians).\"\"\"\n",
    "    return m.sin(x)\n"
   ]
  },
  {
   "cell_type": "markdown",
   "id": "d2a13d74-1961-47e3-8491-6c84e65440af",
   "metadata": {},
   "source": [
    "## Cosine Function\n",
    "This function takes an input `x` in radians and returns its cosine value using the `math.cos()` function.\n"
   ]
  },
  {
   "cell_type": "markdown",
   "id": "e26a4022-4a99-417e-808d-cd590bf838e6",
   "metadata": {},
   "source": [
    "# Creating a function to calculate cosine of x\n",
    "def cosine_function(x):\n",
    "    \"\"\"Returns the cosine of x (in radians).\"\"\"\n",
    "    return m.cos(x)\n"
   ]
  },
  {
   "cell_type": "markdown",
   "id": "13185dc3-ba57-4d23-a3cd-efff5d2f9389",
   "metadata": {},
   "source": [
    "## Calculating Sine and Cosine Values\n",
    "In this cell, we compute the sine and cosine values for the previously defined `x` values using the defined functions.\n"
   ]
  },
  {
   "cell_type": "markdown",
   "id": "3ba1ec95-2d52-46fb-8051-b5d554c656da",
   "metadata": {},
   "source": [
    "# Calculating the values\n",
    "s_values = [sine_function(x) for x in x_values]\n",
    "c_values = [cosine_function(x) for x in x_values]\n"
   ]
  },
  {
   "cell_type": "markdown",
   "id": "8e1641ae-7c67-48e8-9794-b385d8b6ae4e",
   "metadata": {},
   "source": [
    "## Displaying Results\n",
    "This cell prints the first 10 values of `x`, `sin(x)`, and `cos(x)` in a tabular format for easy viewing.\n"
   ]
  },
  {
   "cell_type": "markdown",
   "id": "7b6123b2-8a4a-452e-bf62-7f5e238da1d2",
   "metadata": {},
   "source": [
    "print(f\"{'x':<10}{'sin(x)':<15}{'cos(x)':<15}\")\n",
    "\n",
    "for i in range(10):\n",
    "    print(f\"{x_values[i]:<10.4f}{s_values[i]:<15.4f}{c_values[i]:<15.4f}\")\n"
   ]
  },
  {
   "cell_type": "code",
   "execution_count": null,
   "id": "61e5b56e-8581-4f81-ac92-3c6dbdeecbcf",
   "metadata": {},
   "outputs": [],
   "source": []
  }
 ],
 "metadata": {
  "kernelspec": {
   "display_name": "ASTR 19",
   "language": "python",
   "name": "astr19"
  },
  "language_info": {
   "codemirror_mode": {
    "name": "ipython",
    "version": 3
   },
   "file_extension": ".py",
   "mimetype": "text/x-python",
   "name": "python",
   "nbconvert_exporter": "python",
   "pygments_lexer": "ipython3",
   "version": "3.10.12"
  }
 },
 "nbformat": 4,
 "nbformat_minor": 5
}
